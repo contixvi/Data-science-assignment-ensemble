{
 "cells": [
  {
   "cell_type": "code",
   "execution_count": 5,
   "id": "08e0a117",
   "metadata": {},
   "outputs": [],
   "source": [
    "from sklearn.datasets import fetch_openml\n",
    "from sklearn.model_selection import train_test_split\n",
    "from sklearn.ensemble import GradientBoostingClassifier\n",
    "from sklearn.metrics import accuracy_score\n",
    "import joblib\n",
    "import tkinter as tk\n",
    "from tkinter import *\n",
    "import numpy as np\n",
    "from PIL import Image, ImageDraw, ImageOps\n",
    "import joblib"
   ]
  },
  {
   "cell_type": "code",
   "execution_count": 6,
   "id": "d1b11189",
   "metadata": {},
   "outputs": [
    {
     "name": "stderr",
     "output_type": "stream",
     "text": [
      "C:\\Users\\USER\\anaconda3\\Lib\\site-packages\\sklearn\\datasets\\_openml.py:968: FutureWarning: The default value of `parser` will change from `'liac-arff'` to `'auto'` in 1.4. You can set `parser='auto'` to silence this warning. Therefore, an `ImportError` will be raised from 1.4 if the dataset is dense and pandas is not installed. Note that the pandas parser may return different data types. See the Notes Section in fetch_openml's API doc for details.\n",
      "  warn(\n"
     ]
    }
   ],
   "source": [
    "mnist = fetch_openml('mnist_784')"
   ]
  },
  {
   "cell_type": "code",
   "execution_count": 7,
   "id": "3b6ca2d7",
   "metadata": {},
   "outputs": [],
   "source": [
    "X,y = mnist.data, mnist.target.astype('int')"
   ]
  },
  {
   "cell_type": "code",
   "execution_count": 8,
   "id": "d9c82af3",
   "metadata": {},
   "outputs": [
    {
     "data": {
      "text/plain": [
       "(70000, 784)"
      ]
     },
     "execution_count": 8,
     "metadata": {},
     "output_type": "execute_result"
    }
   ],
   "source": [
    "X.shape"
   ]
  },
  {
   "cell_type": "code",
   "execution_count": 9,
   "id": "a9e6db79",
   "metadata": {},
   "outputs": [
    {
     "data": {
      "text/plain": [
       "(70000,)"
      ]
     },
     "execution_count": 9,
     "metadata": {},
     "output_type": "execute_result"
    }
   ],
   "source": [
    "y.shape"
   ]
  },
  {
   "cell_type": "code",
   "execution_count": null,
   "id": "c66b01b6",
   "metadata": {},
   "outputs": [],
   "source": []
  },
  {
   "cell_type": "code",
   "execution_count": 10,
   "id": "eb30485b",
   "metadata": {},
   "outputs": [],
   "source": [
    "X_train, X_test, y_train, y_test = train_test_split(X, y, test_size = 0.2, random_state = 42)"
   ]
  },
  {
   "cell_type": "code",
   "execution_count": 11,
   "id": "91d6df2e",
   "metadata": {},
   "outputs": [
    {
     "name": "stdout",
     "output_type": "stream",
     "text": [
      "X_train shape: (56000, 784)\n",
      "y_train shape: (56000,)\n",
      "X_test shape: (14000, 784)\n",
      "y_test shape: (14000,)\n"
     ]
    }
   ],
   "source": [
    "print(f\"X_train shape: {X_train.shape}\")\n",
    "print(f\"y_train shape: {y_train.shape}\")\n",
    "print(f\"X_test shape: {X_test.shape}\")\n",
    "print(f\"y_test shape: {y_test.shape}\")"
   ]
  },
  {
   "cell_type": "code",
   "execution_count": 12,
   "id": "e8ba16d5",
   "metadata": {},
   "outputs": [],
   "source": [
    "gb_model =GradientBoostingClassifier(n_estimators = 100, random_state = 42)"
   ]
  },
  {
   "cell_type": "code",
   "execution_count": null,
   "id": "97734524",
   "metadata": {},
   "outputs": [],
   "source": [
    "gb_model.fit(X_train, y_train)\n",
    "gb_predictions = gb_model.predict(x_test)\n",
    "\n",
    "gb_accuracy = accuracy_score(y_test, gb_predictions)\n",
    "\n",
    "gb_accuracy"
   ]
  },
  {
   "cell_type": "code",
   "execution_count": null,
   "id": "c7ea55c0",
   "metadata": {},
   "outputs": [],
   "source": [
    "joblib.dump(gb_model, 'rf_mnist_model.pkl')"
   ]
  },
  {
   "cell_type": "code",
   "execution_count": null,
   "id": "57aa6c45",
   "metadata": {},
   "outputs": [],
   "source": [
    "# Evaluate the model (optional)\n",
    "print(f\"Model accuracy: {gb_model.score(X_test, y_test):.2f}\")"
   ]
  },
  {
   "cell_type": "code",
   "execution_count": null,
   "id": "3eeb58c3",
   "metadata": {},
   "outputs": [],
   "source": [
    "rf_model = joblib.load('gb_mnist_model.pkl')"
   ]
  },
  {
   "cell_type": "code",
   "execution_count": null,
   "id": "8511eb44",
   "metadata": {},
   "outputs": [],
   "source": [
    "class DrawDigitsApp:\n",
    "    def __init__(self, root):\n",
    "        self.root = root\n",
    "        self.root.title(\"Draw a Digit\")\n",
    "\n",
    "        self.canvas = tk.Canvas(root, width=200, height=200, bg='white')\n",
    "        self.canvas.pack()\n",
    "\n",
    "        self.image = Image.new(\"L\", (200, 200), 255)\n",
    "        self.draw = ImageDraw.Draw(self.image)\n",
    "\n",
    "        self.canvas.bind(\"<B1-Motion>\", self.paint)\n",
    "        self.clear_button = tk.Button(root, text=\"Clear\", command=self.clear_canvas)\n",
    "        self.clear_button.pack()\n",
    "        self.submit_button = tk.Button(root, text=\"Submit\", command=self.submit_canvas)\n",
    "        self.submit_button.pack()\n",
    "        self.result_label = tk.Label(root, text=\"\")\n",
    "        self.result_label.pack()\n",
    "\n",
    "    def paint(self, event):\n",
    "        x1, y1 = (event.x - 4), (event.y - 4)\n",
    "        x2, y2 = (event.x + 4), (event.y + 4)\n",
    "        self.canvas.create_oval(x1, y1, x2, y2, fill='black')\n",
    "        self.draw.ellipse([x1, y1, x2, y2], fill='black')\n",
    "\n",
    "    def clear_canvas(self):\n",
    "        self.canvas.delete(\"all\")\n",
    "        self.image = Image.new(\"L\", (200, 200), 255)\n",
    "        self.draw = ImageDraw.Draw(self.image)\n",
    "\n",
    "    def submit_canvas(self):\n",
    "        # Invert the image colors to match MNIST format (black background and white digits)\n",
    "        image_inverted = ImageOps.invert(self.image)\n",
    "\n",
    "        # Resize the image to 28x28 as required by MNIST\n",
    "        image_resized = image_inverted.resize((28, 28))\n",
    "\n",
    "        # Normalize the image\n",
    "        image_array = np.array(image_resized) / 255.0\n",
    "\n",
    "        # Flatten the array\n",
    "        image_array = image_array.reshape(1, -1)\n",
    "\n",
    "        # Predict the digit using the pre-trained RandomForest model\n",
    "        prediction = rf_model.predict(image_array)\n",
    "        digit = prediction[0]\n",
    "\n",
    "        # Display the result\n",
    "        self.result_label.config(text=f\"Predicted Digit: {digit}\")\n"
   ]
  },
  {
   "cell_type": "code",
   "execution_count": null,
   "id": "2e7182e8",
   "metadata": {},
   "outputs": [],
   "source": [
    "if __name__ == \"__main__\":\n",
    "    root = tk.Tk()\n",
    "    app = DrawDigitsApp(root)\n",
    "    root.mainloop()"
   ]
  },
  {
   "cell_type": "code",
   "execution_count": null,
   "id": "603d644a",
   "metadata": {},
   "outputs": [],
   "source": []
  }
 ],
 "metadata": {
  "kernelspec": {
   "display_name": "Python 3 (ipykernel)",
   "language": "python",
   "name": "python3"
  },
  "language_info": {
   "codemirror_mode": {
    "name": "ipython",
    "version": 3
   },
   "file_extension": ".py",
   "mimetype": "text/x-python",
   "name": "python",
   "nbconvert_exporter": "python",
   "pygments_lexer": "ipython3",
   "version": "3.11.7"
  }
 },
 "nbformat": 4,
 "nbformat_minor": 5
}
